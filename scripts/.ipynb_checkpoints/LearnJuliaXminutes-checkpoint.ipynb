{
 "metadata": {
  "language": "Julia",
  "name": "",
  "signature": "sha256:97dcd2e147b43a120800f96cb5bc9d6cb7c11c54a6456a9aede62fe40e1d10fc"
 },
 "nbformat": 3,
 "nbformat_minor": 0,
 "worksheets": [
  {
   "cells": [
    {
     "cell_type": "code",
     "collapsed": false,
     "input": [
      "#just to get some of the syntax down\n",
      "\n",
      "#=\n",
      "multi-line comments\n",
      "=#"
     ],
     "language": "python",
     "metadata": {},
     "outputs": []
    },
    {
     "cell_type": "code",
     "collapsed": false,
     "input": [
      "# all these expressions!\n",
      "# datatypes\n",
      "3 # Int64\n",
      "3.2 # 3.2 Float64\n",
      "2 + 1im # complex Int64\n",
      "2//3 # \n",
      "1 + 1\n",
      "10 * 2\n",
      "5/2 #dividing Int by Int always results in FLOAT\n",
      "35/ 5\n",
      "\n",
      "2^2\n",
      "12%10\n",
      "\n",
      "(1+3)*2 # use parentheses to enforce precedence"
     ],
     "language": "python",
     "metadata": {},
     "outputs": [
      {
       "metadata": {},
       "output_type": "pyout",
       "prompt_number": 10,
       "text": [
        "2"
       ]
      }
     ],
     "prompt_number": 10
    },
    {
     "cell_type": "code",
     "collapsed": false,
     "input": [
      "#bitwise operators\n",
      "~2  # -3 NOT\n",
      "3 & 5 # 1 AND\n",
      "2 | 4 # 6 OR\n",
      "2 $ 4 # 6 XOR\n",
      "2 >>> 1 # 1 logical shift right\n",
      "2 >> 1  # 1 arithmetic shift right\n",
      "2 << 1  # 4 logical/arithmetic shift left\n",
      "bits(12345)\n",
      "bits(12345.0)"
     ],
     "language": "python",
     "metadata": {},
     "outputs": [
      {
       "metadata": {},
       "output_type": "pyout",
       "prompt_number": 15,
       "text": [
        "\"0100000011001000000111001000000000000000000000000000000000000000\""
       ]
      }
     ],
     "prompt_number": 15
    },
    {
     "cell_type": "code",
     "collapsed": false,
     "input": [
      "# boolean values and operators\n",
      "true \n",
      "false\n",
      "\n",
      "!true # false\n",
      "!false # true\n",
      "1 == 1 # true\n",
      "2 == 1 # false\n",
      "1 != 1 # false\n",
      "2 != 1 # true\n",
      "1 < 10 # true\n",
      "1 > 10 # false\n",
      "2 <= 2 # true\n",
      "2 >= 2 # true\n",
      "\n",
      "# chain the comparisons\n",
      "1 < 2 < 3 # true\n",
      "2 < 3 < 2 # false"
     ],
     "language": "python",
     "metadata": {},
     "outputs": [
      {
       "metadata": {},
       "output_type": "pyout",
       "prompt_number": 17,
       "text": [
        "false"
       ]
      }
     ],
     "prompt_number": 17
    },
    {
     "cell_type": "code",
     "collapsed": false,
     "input": [
      "# strings are created with \"\"\n",
      "\"This is a string.\"\n",
      "\n",
      "# character literals\n",
      "'a'\n",
      "\n",
      "# indexing the string\n",
      "\"this is a string\"[4] # s, reminder Julia indexs from 1\n",
      "\n",
      "# use the $ for string interpolation\n",
      "\"2 + 2 = $(2 + 2)\" # you can put any expression inside the parentheses\n",
      "\n",
      "# us the printf macro\n",
      "@printf \"%d is less than %f\" 4.5 5.3 #5 is less than 5.3 rounding up\n",
      "\n",
      "println()"
     ],
     "language": "python",
     "metadata": {},
     "outputs": [
      {
       "output_type": "stream",
       "stream": "stdout",
       "text": [
        "5 is less than "
       ]
      },
      {
       "output_type": "stream",
       "stream": "stdout",
       "text": [
        "5.300000"
       ]
      }
     ],
     "prompt_number": 25
    },
    {
     "cell_type": "code",
     "collapsed": false,
     "input": [],
     "language": "python",
     "metadata": {},
     "outputs": []
    }
   ],
   "metadata": {}
  }
 ]
}