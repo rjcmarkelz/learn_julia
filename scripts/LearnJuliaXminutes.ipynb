{
 "cells": [
  {
   "cell_type": "code",
   "execution_count": 1,
   "metadata": {
    "collapsed": false
   },
   "outputs": [],
   "source": [
    "#just to get some of the syntax down\n",
    "\n",
    "#=\n",
    "multi-line comments\n",
    "=#"
   ]
  },
  {
   "cell_type": "code",
   "execution_count": 2,
   "metadata": {
    "collapsed": false
   },
   "outputs": [
    {
     "data": {
      "text/plain": [
       "8"
      ]
     },
     "execution_count": 2,
     "metadata": {},
     "output_type": "execute_result"
    }
   ],
   "source": [
    "# all these expressions!\n",
    "# datatypes\n",
    "3 # Int64\n",
    "3.2 # 3.2 Float64\n",
    "2 + 1im # complex Int64\n",
    "2//3 # \n",
    "1 + 1\n",
    "10 * 2\n",
    "5/2 #dividing Int by Int always results in FLOAT\n",
    "35/ 5\n",
    "\n",
    "2^2\n",
    "12%10\n",
    "\n",
    "(1+3)*2 # use parentheses to enforce precedence"
   ]
  },
  {
   "cell_type": "code",
   "execution_count": 15,
   "metadata": {
    "collapsed": false
   },
   "outputs": [
    {
     "data": {
      "text/plain": [
       "\"0100000011001000000111001000000000000000000000000000000000000000\""
      ]
     },
     "execution_count": 15,
     "metadata": {},
     "output_type": "execute_result"
    }
   ],
   "source": [
    "#bitwise operators\n",
    "~2  # -3 NOT\n",
    "3 & 5 # 1 AND\n",
    "2 | 4 # 6 OR\n",
    "2 $ 4 # 6 XOR\n",
    "2 >>> 1 # 1 logical shift right\n",
    "2 >> 1  # 1 arithmetic shift right\n",
    "2 << 1  # 4 logical/arithmetic shift left\n",
    "bits(12345)\n",
    "bits(12345.0)"
   ]
  },
  {
   "cell_type": "code",
   "execution_count": 17,
   "metadata": {
    "collapsed": false
   },
   "outputs": [
    {
     "data": {
      "text/plain": [
       "false"
      ]
     },
     "execution_count": 17,
     "metadata": {},
     "output_type": "execute_result"
    }
   ],
   "source": [
    "# boolean values and operators\n",
    "true \n",
    "false\n",
    "\n",
    "!true # false\n",
    "!false # true\n",
    "1 == 1 # true\n",
    "2 == 1 # false\n",
    "1 != 1 # false\n",
    "2 != 1 # true\n",
    "1 < 10 # true\n",
    "1 > 10 # false\n",
    "2 <= 2 # true\n",
    "2 >= 2 # true\n",
    "\n",
    "# chain the comparisons\n",
    "1 < 2 < 3 # true\n",
    "2 < 3 < 2 # false"
   ]
  },
  {
   "cell_type": "code",
   "execution_count": 1,
   "metadata": {
    "collapsed": false
   },
   "outputs": [
    {
     "name": "stdout",
     "output_type": "stream",
     "text": [
      "5 is less than 5.300000"
     ]
    }
   ],
   "source": [
    "# strings are created with \"\"\n",
    "\"This is a string.\"\n",
    "\n",
    "# character literals\n",
    "'a'\n",
    "\n",
    "# indexing the string\n",
    "\"this is a string\"[4] # s, reminder Julia indexs from 1\n",
    "\n",
    "# use the $ for string interpolation\n",
    "\"2 + 2 = $(2 + 2)\" # you can put any expression inside the parentheses\n",
    "\n",
    "# us the printf macro\n",
    "@printf \"%d is less than %f\" 4.5 5.3 #5 is less than 5.3 rounding up"
   ]
  },
  {
   "cell_type": "code",
   "execution_count": null,
   "metadata": {
    "collapsed": false
   },
   "outputs": [],
   "source": []
  }
 ],
 "metadata": {
  "kernelspec": {
   "display_name": "Julia 0.3.10",
   "language": "julia",
   "name": "julia-0.3"
  },
  "language_info": {
   "file_extension": ".jl",
   "mimetype": "application/julia",
   "name": "julia",
   "version": "0.3.10"
  }
 },
 "nbformat": 4,
 "nbformat_minor": 0
}
